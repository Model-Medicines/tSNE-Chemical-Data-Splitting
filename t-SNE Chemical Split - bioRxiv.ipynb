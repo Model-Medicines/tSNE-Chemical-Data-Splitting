{
 "cells": [
  {
   "cell_type": "code",
   "execution_count": null,
   "id": "97620b0e",
   "metadata": {},
   "outputs": [],
   "source": [
    "#imports\n",
    "from rdkit import Chem\n",
    "from rdkit.Chem import AllChem\n",
    "from sklearn.manifold import TSNE\n",
    "import matplotlib.pyplot as plt\n",
    "import numpy as np\n",
    "import pandas as pd\n",
    "import seaborn as sns"
   ]
  },
  {
   "cell_type": "markdown",
   "id": "dd2fbc2f",
   "metadata": {},
   "source": [
    "# t-SNE Chemical Data Split"
   ]
  },
  {
   "cell_type": "code",
   "execution_count": null,
   "id": "0a0a39d1",
   "metadata": {},
   "outputs": [],
   "source": [
    "def tsne_split(data, rs=42):\n",
    "    \"\"\"\n",
    "    Splits the input data into training and testing sets based on t-SNE clustering.\n",
    "    \n",
    "    Parameters:\n",
    "    - data (pd.DataFrame): A DataFrame containing SMILES strings and binary activity labels.\n",
    "    - rs (int, optional): Random state for TSNE. Defaults to 42.\n",
    "    \n",
    "    Returns:\n",
    "    - tuple: Contains training data, testing data, and a DataFrame with t-SNE coordinates and set labels.\n",
    "    \"\"\"\n",
    "    # Convert SMILES to MorganFingerprint bit vectors\n",
    "    bitvectors = np.array([AllChem.GetMorganFingerprintAsBitVect(Chem.MolFromSmiles(sm), 2, nBits=32) for sm in data['SMILES']])\n",
    "    \n",
    "    # Perform t-SNE\n",
    "    tsne = TSNE(random_state=rs, init='pca')\n",
    "    bit_tsne = tsne.fit_transform(bitvectors)\n",
    "    \n",
    "    # Split into training and testing based on t-SNE y-axis (~50/50%)\n",
    "    train_indices = bit_tsne[:, 1] > 0\n",
    "    test_indices = ~train_indices\n",
    "    train_data = data.iloc[train_indices]\n",
    "    test_data = data.iloc[test_indices]\n",
    "    \n",
    "    # Create DataFrame for t-SNE coordinates and assign sets\n",
    "    tsne_coords_df = pd.DataFrame(bit_tsne, columns=[\"tSNE_1\", \"tSNE_2\"])\n",
    "    tsne_coords_df['activity'] = data['activity'].values\n",
    "    tsne_coords_df['set'] = np.where(train_indices, 'train', 'test')\n",
    "    \n",
    "    return train_data, test_data, tsne_coords_df\n",
    "\n",
    "\n",
    "def activity_counter(curr_df):\n",
    "    \"\"\"\n",
    "    Counts and prints the number of active and inactive samples in the given DataFrame.\n",
    "    \n",
    "    Parameters:\n",
    "    - curr_df (pd.DataFrame): DataFrame containing the binary 'activity' column.\n",
    "    \"\"\"\n",
    "    total = len(curr_df)\n",
    "    actives = curr_df['activity'].sum()\n",
    "    inactives = total - actives\n",
    "    \n",
    "    print(f\"Total samples: {total}\\nActives: {actives}\\nInactives: {inactives}\")\n"
   ]
  },
  {
   "cell_type": "markdown",
   "id": "5e808e7c",
   "metadata": {},
   "source": [
    "### Import Data"
   ]
  },
  {
   "cell_type": "code",
   "execution_count": null,
   "id": "8a597f4a",
   "metadata": {},
   "outputs": [],
   "source": [
    "bioassay_data_df = pd.read_csv('your/path/here.csv')"
   ]
  },
  {
   "cell_type": "markdown",
   "id": "58417bdb",
   "metadata": {},
   "source": [
    "###  Apply t-SNE Split"
   ]
  },
  {
   "cell_type": "code",
   "execution_count": null,
   "id": "e44ca153",
   "metadata": {},
   "outputs": [],
   "source": [
    "train_df, test_df, viz_df = tsne_split(bioassay_data_df, rs=42)"
   ]
  },
  {
   "cell_type": "code",
   "execution_count": null,
   "id": "6a42a5b4",
   "metadata": {},
   "outputs": [],
   "source": [
    "activity_counter(train_df)"
   ]
  },
  {
   "cell_type": "code",
   "execution_count": null,
   "id": "e8fd3cd7",
   "metadata": {},
   "outputs": [],
   "source": [
    "activity_counter(test_df)"
   ]
  },
  {
   "cell_type": "code",
   "execution_count": null,
   "id": "08889d7e",
   "metadata": {},
   "outputs": [],
   "source": [
    "# #save train_data, test_data \n",
    "# train_df.to_csv('train.csv')\n",
    "# test_df.to_csv('test.csv')"
   ]
  },
  {
   "cell_type": "markdown",
   "id": "68e89ec9",
   "metadata": {},
   "source": [
    "# Visualization of the Split"
   ]
  },
  {
   "cell_type": "code",
   "execution_count": null,
   "id": "9e9eae77",
   "metadata": {},
   "outputs": [],
   "source": [
    "def visualize_split(curr_df):\n",
    "    \"\"\"\n",
    "    Visualizes the training and testing data split using t-SNE coordinates.\n",
    "    \n",
    "    This function creates a scatter plot with the data points colored and marked differently based on their\n",
    "    activity status (active or inactive) and whether they are part of the training or testing set.\n",
    "    \n",
    "    Parameters:\n",
    "    - curr_df (pd.DataFrame): DataFrame containing t-SNE coordinates, activity status, and set labels.\n",
    "    \"\"\"\n",
    "    plt.figure(figsize=[10, 8], dpi=300)\n",
    "    \n",
    "    # Define plot settings for each combination of activity and set\n",
    "    settings = [\n",
    "        {'filter': (curr_df['activity'] == 0) & (curr_df['set'] == 'train'), 'color': 'm', 'marker': 'd', 'label': 'Inactive Train'},\n",
    "        {'filter': (curr_df['activity'] == 1) & (curr_df['set'] == 'train'), 'color': 'c', 'marker': 'd', 'label': 'Active Train'},\n",
    "        {'filter': (curr_df['activity'] == 0) & (curr_df['set'] == 'test'), 'color': 'm', 'marker': 'o', 'label': 'Inactive Test'},\n",
    "        {'filter': (curr_df['activity'] == 1) & (curr_df['set'] == 'test'), 'color': 'c', 'marker': 'o', 'label': 'Active Test'},\n",
    "    ]\n",
    "\n",
    "    for setting in settings:\n",
    "        filtered_data = curr_df[setting['filter']]\n",
    "        sns.scatterplot(x='tSNE_1', y='tSNE_2', data=filtered_data,\n",
    "                        color=setting['color'], marker=setting['marker'], s=50, alpha=1, label=setting['label'])\n",
    "    \n",
    "    plt.axhline(y=0, color='red', linestyle='dotted')\n",
    "    plt.legend(title='Data Type', title_fontsize='13', fontsize='11', loc='best', frameon=True, shadow=True)\n",
    "    plt.title('Train-Test t-SNE Chemical Split', fontsize=16, fontweight='bold')\n",
    "    plt.xlabel('t-SNE Dimension 1', fontsize=14)\n",
    "    plt.ylabel('t-SNE Dimension 2', fontsize=14)\n",
    "    plt.grid(True, which='both', linestyle='--', linewidth=0.5)\n",
    "    plt.tight_layout()\n",
    "    plt.show()\n"
   ]
  },
  {
   "cell_type": "code",
   "execution_count": null,
   "id": "f610ee68",
   "metadata": {},
   "outputs": [],
   "source": [
    "visualize_split(viz_df)"
   ]
  },
  {
   "cell_type": "code",
   "execution_count": null,
   "id": "6967411a",
   "metadata": {},
   "outputs": [],
   "source": []
  }
 ],
 "metadata": {
  "kernelspec": {
   "display_name": "Python 3",
   "language": "python",
   "name": "python3"
  },
  "language_info": {
   "codemirror_mode": {
    "name": "ipython",
    "version": 3
   },
   "file_extension": ".py",
   "mimetype": "text/x-python",
   "name": "python",
   "nbconvert_exporter": "python",
   "pygments_lexer": "ipython3",
   "version": "3.8.8"
  }
 },
 "nbformat": 4,
 "nbformat_minor": 5
}
